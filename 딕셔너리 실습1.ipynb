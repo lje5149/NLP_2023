{
  "nbformat": 4,
  "nbformat_minor": 0,
  "metadata": {
    "colab": {
      "provenance": [],
      "authorship_tag": "ABX9TyNPqVz8oJ+E9HXMgsX/oXwW",
      "include_colab_link": true
    },
    "kernelspec": {
      "name": "python3",
      "display_name": "Python 3"
    },
    "language_info": {
      "name": "python"
    }
  },
  "cells": [
    {
      "cell_type": "markdown",
      "metadata": {
        "id": "view-in-github",
        "colab_type": "text"
      },
      "source": [
        "<a href=\"https://colab.research.google.com/github/lje5149/NLP_2023/blob/main/%EB%94%95%EC%85%94%EB%84%88%EB%A6%AC%20%EC%8B%A4%EC%8A%B51.ipynb\" target=\"_parent\"><img src=\"https://colab.research.google.com/assets/colab-badge.svg\" alt=\"Open In Colab\"/></a>"
      ]
    },
    {
      "cell_type": "code",
      "execution_count": 1,
      "metadata": {
        "id": "92Z7I3Xte3Dd"
      },
      "outputs": [],
      "source": [
        "dic = {'name': 'pey', 'phone': '010-9999-1234', 'birth': '1118'}"
      ]
    },
    {
      "cell_type": "code",
      "source": [
        "a = {1: 'hi'}"
      ],
      "metadata": {
        "id": "NO-KhK2yfR0S"
      },
      "execution_count": 3,
      "outputs": []
    },
    {
      "cell_type": "code",
      "source": [
        "a = {'a': [1, 2, 3]}"
      ],
      "metadata": {
        "id": "ZbPQ9vA1fasD"
      },
      "execution_count": 4,
      "outputs": []
    },
    {
      "cell_type": "code",
      "source": [
        "a = {1: 'a'}"
      ],
      "metadata": {
        "id": "gAwFt2_jfezM"
      },
      "execution_count": 5,
      "outputs": []
    },
    {
      "cell_type": "code",
      "source": [
        "a[2] = 'b'"
      ],
      "metadata": {
        "id": "DOWia3MXfkQh"
      },
      "execution_count": 6,
      "outputs": []
    },
    {
      "cell_type": "code",
      "source": [
        "a"
      ],
      "metadata": {
        "colab": {
          "base_uri": "https://localhost:8080/"
        },
        "id": "EaHS99S8fnMY",
        "outputId": "cae234e5-9e66-46fb-dda3-a5ea096b20bb"
      },
      "execution_count": 8,
      "outputs": [
        {
          "output_type": "execute_result",
          "data": {
            "text/plain": [
              "{1: 'a', 2: 'b'}"
            ]
          },
          "metadata": {},
          "execution_count": 8
        }
      ]
    },
    {
      "cell_type": "code",
      "source": [
        "a['name'] = 'pey'"
      ],
      "metadata": {
        "id": "kYQN0HMrfsuu"
      },
      "execution_count": 9,
      "outputs": []
    },
    {
      "cell_type": "code",
      "source": [
        "a"
      ],
      "metadata": {
        "colab": {
          "base_uri": "https://localhost:8080/"
        },
        "id": "6IGQIa4sfzRC",
        "outputId": "cc9afe57-ddd4-49f2-eded-b443349ba905"
      },
      "execution_count": 10,
      "outputs": [
        {
          "output_type": "execute_result",
          "data": {
            "text/plain": [
              "{1: 'a', 2: 'b', 'name': 'pey'}"
            ]
          },
          "metadata": {},
          "execution_count": 10
        }
      ]
    },
    {
      "cell_type": "code",
      "source": [
        "a['name'] = 'pey'"
      ],
      "metadata": {
        "id": "OXH43dZ0f0UZ"
      },
      "execution_count": 11,
      "outputs": []
    },
    {
      "cell_type": "code",
      "source": [
        "a"
      ],
      "metadata": {
        "colab": {
          "base_uri": "https://localhost:8080/"
        },
        "id": "EXMBBmOxf4VV",
        "outputId": "32a72407-674b-4e9f-cde9-3d5d432aba2b"
      },
      "execution_count": 13,
      "outputs": [
        {
          "output_type": "execute_result",
          "data": {
            "text/plain": [
              "{1: 'a', 2: 'b', 'name': 'pey'}"
            ]
          },
          "metadata": {},
          "execution_count": 13
        }
      ]
    },
    {
      "cell_type": "code",
      "source": [
        "del a[1]"
      ],
      "metadata": {
        "id": "-6czIKPkf-o4"
      },
      "execution_count": 14,
      "outputs": []
    },
    {
      "cell_type": "code",
      "source": [
        "a"
      ],
      "metadata": {
        "colab": {
          "base_uri": "https://localhost:8080/"
        },
        "id": "qS_-Xragf_br",
        "outputId": "cffb6cdc-86fb-4d75-982f-789424172ec0"
      },
      "execution_count": 15,
      "outputs": [
        {
          "output_type": "execute_result",
          "data": {
            "text/plain": [
              "{2: 'b', 'name': 'pey'}"
            ]
          },
          "metadata": {},
          "execution_count": 15
        }
      ]
    }
  ]
}