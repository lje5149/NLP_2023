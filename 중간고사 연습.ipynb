{
  "nbformat": 4,
  "nbformat_minor": 0,
  "metadata": {
    "colab": {
      "provenance": [],
      "authorship_tag": "ABX9TyN4gVvZOQEKk7GWkh9TJ/uO",
      "include_colab_link": true
    },
    "kernelspec": {
      "name": "python3",
      "display_name": "Python 3"
    },
    "language_info": {
      "name": "python"
    }
  },
  "cells": [
    {
      "cell_type": "markdown",
      "metadata": {
        "id": "view-in-github",
        "colab_type": "text"
      },
      "source": [
        "<a href=\"https://colab.research.google.com/github/lje5149/NLP_2023/blob/main/%EC%A4%91%EA%B0%84%EA%B3%A0%EC%82%AC%20%EC%97%B0%EC%8A%B5.ipynb\" target=\"_parent\"><img src=\"https://colab.research.google.com/assets/colab-badge.svg\" alt=\"Open In Colab\"/></a>"
      ]
    },
    {
      "cell_type": "code",
      "execution_count": 4,
      "metadata": {
        "colab": {
          "base_uri": "https://localhost:8080/"
        },
        "id": "fmxRcrSsIKmK",
        "outputId": "58c5de76-6283-4533-b9b0-d401f6edff0e"
      },
      "outputs": [
        {
          "output_type": "stream",
          "name": "stdout",
          "text": [
            "x는 y보다 크다.\n"
          ]
        }
      ],
      "source": [
        "x=36\n",
        "y=25\n",
        "if x>y:\n",
        "  print('x는 y보다 크다.')\n",
        "else:\n",
        "    print('x는 y보다 작다.')"
      ]
    },
    {
      "cell_type": "code",
      "source": [
        "listdata=['a', 'b', 'c']\n",
        "if 'a' in listdata:\n",
        "  print(\"'a'가 listdata에 있다.\")"
      ],
      "metadata": {
        "colab": {
          "base_uri": "https://localhost:8080/"
        },
        "id": "6-hqcERWI8HR",
        "outputId": "2fe69bcc-715b-427a-ba3f-b0a49476d221"
      },
      "execution_count": 5,
      "outputs": [
        {
          "output_type": "stream",
          "name": "stdout",
          "text": [
            "'a'가 listdata에 있다.\n"
          ]
        }
      ]
    },
    {
      "cell_type": "code",
      "source": [
        "numbers=(1, 2, 3, 4, 5)\n",
        "for i in numbers:\n",
        "  print(i)"
      ],
      "metadata": {
        "colab": {
          "base_uri": "https://localhost:8080/"
        },
        "id": "e8f1RSUjJipV",
        "outputId": "79d9adca-5b32-4a6c-97f5-27b8f50a9845"
      },
      "execution_count": 6,
      "outputs": [
        {
          "output_type": "stream",
          "name": "stdout",
          "text": [
            "1\n",
            "2\n",
            "3\n",
            "4\n",
            "5\n"
          ]
        }
      ]
    },
    {
      "cell_type": "code",
      "source": [
        "import re\n",
        "text = \"hat, cat, bat, battle, pat\"\n",
        "pattern = r\".at\"\n",
        "matches = re.findall(pattern, text)\n",
        "for i in matches:\n",
        "  print(\"match:\",i)"
      ],
      "metadata": {
        "colab": {
          "base_uri": "https://localhost:8080/"
        },
        "id": "wotbLsU3KOJF",
        "outputId": "511539e9-a14e-4d80-ffab-1939eba1e696"
      },
      "execution_count": 17,
      "outputs": [
        {
          "output_type": "stream",
          "name": "stdout",
          "text": [
            "match: hat\n",
            "match: cat\n",
            "match: bat\n",
            "match: bat\n",
            "match: pat\n"
          ]
        }
      ]
    },
    {
      "cell_type": "code",
      "source": [
        "import re\n",
        "text = \"color or colour?\"\n",
        "pattern = r\"colou?r\"\n",
        "matches = re.findall(pattern,text)\n",
        "for i in matches:\n",
        "  print(\"match:\",i)"
      ],
      "metadata": {
        "colab": {
          "base_uri": "https://localhost:8080/"
        },
        "id": "W7VaJFnhLYpw",
        "outputId": "8c467c9a-fda9-4afb-d377-8c2f451f09c2"
      },
      "execution_count": 15,
      "outputs": [
        {
          "output_type": "stream",
          "name": "stdout",
          "text": [
            "match: color\n",
            "match: colour\n"
          ]
        }
      ]
    }
  ]
}