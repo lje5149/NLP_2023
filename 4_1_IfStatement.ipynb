{
  "nbformat": 4,
  "nbformat_minor": 0,
  "metadata": {
    "colab": {
      "provenance": [],
      "include_colab_link": true
    },
    "kernelspec": {
      "name": "python3",
      "display_name": "Python 3"
    },
    "language_info": {
      "name": "python"
    }
  },
  "cells": [
    {
      "cell_type": "markdown",
      "metadata": {
        "id": "view-in-github",
        "colab_type": "text"
      },
      "source": [
        "<a href=\"https://colab.research.google.com/github/lje5149/NLP_2023/blob/main/4_1_IfStatement.ipynb\" target=\"_parent\"><img src=\"https://colab.research.google.com/assets/colab-badge.svg\" alt=\"Open In Colab\"/></a>"
      ]
    },
    {
      "cell_type": "markdown",
      "source": [
        "### 🐾  Some useful tips for statements (e.g., if, for, while, etc.), functions or class\n",
        "\n",
        "1️⃣ The code line including a statement or a definition should end with a colon (:).\n",
        "\n",
        "2️⃣ Following executable codes should be indicated by indentation. When you hit the ENTER key for a second code line, indentation is automatically generated. However, when indentation disappears for some reason, you can do this with a tab or a spacebar.\n",
        "\n",
        "3️⃣ All executable code lines should have regular intervals."
      ],
      "metadata": {
        "id": "h2WMM5L89Ra7"
      }
    },
    {
      "cell_type": "code",
      "source": [
        "x = 100\n",
        "y = 95\n",
        "\n",
        "if x>y:\n",
        "  print('x is greater then y.')\n",
        "\n",
        "else:\n",
        "  print('x is smaller then or equal to y.')"
      ],
      "metadata": {
        "id": "nbtX8x-RgzgT",
        "outputId": "9ef33651-6b27-4aec-8ba8-5bf772441143",
        "colab": {
          "base_uri": "https://localhost:8080/"
        }
      },
      "execution_count": 2,
      "outputs": [
        {
          "output_type": "stream",
          "name": "stdout",
          "text": [
            "x is greater then y.\n"
          ]
        }
      ]
    },
    {
      "cell_type": "code",
      "source": [
        "x=100\n",
        "y=95\n",
        "\n",
        "if x>y:\n",
        "  print('x is greater than y.')\n",
        "\n",
        "\n",
        "else:\n",
        "  print('x is smaller than or equal to y.')"
      ],
      "metadata": {
        "id": "es9O3MH9wKPz"
      },
      "execution_count": null,
      "outputs": []
    },
    {
      "cell_type": "code",
      "source": [
        "x=0\n",
        "y=0\n",
        "\n",
        "if x > y:\n",
        "  print('x is greater than y')\n",
        "\n",
        "else:\n",
        "  print('x is smaller than or equal to y')"
      ],
      "metadata": {
        "id": "pc65dl-hieEf",
        "outputId": "a9c9b09f-87b8-4c2b-c06b-90dff85b1f8e",
        "colab": {
          "base_uri": "https://localhost:8080/"
        }
      },
      "execution_count": 3,
      "outputs": [
        {
          "output_type": "stream",
          "name": "stdout",
          "text": [
            "x is smaller than or equal to y\n"
          ]
        }
      ]
    },
    {
      "cell_type": "code",
      "source": [
        "x=0\n",
        "y=0\n",
        "\n",
        "if x > y:\n",
        "  print('x is greater than y')\n",
        "\n",
        "else:\n",
        "  print('x is smaller than or equal to y')"
      ],
      "metadata": {
        "id": "0EEhWrh3nNih"
      },
      "execution_count": null,
      "outputs": []
    },
    {
      "cell_type": "code",
      "source": [
        "x=345\n",
        "y=678\n",
        "\n",
        "if x>y:\n",
        "  print('x is greater than y.')\n",
        "\n",
        "\n",
        "else:\n",
        "  print('x is smaller than or equal to y.')"
      ],
      "metadata": {
        "id": "3hbI3_ClixOK",
        "outputId": "4421ddf2-bc22-471d-a91f-97d1a0e51b43",
        "colab": {
          "base_uri": "https://localhost:8080/"
        }
      },
      "execution_count": 4,
      "outputs": [
        {
          "output_type": "stream",
          "name": "stdout",
          "text": [
            "x is smaller than or equal to y.\n"
          ]
        }
      ]
    },
    {
      "cell_type": "code",
      "source": [
        "x=345\n",
        "y=678\n",
        "\n",
        "if x>y:\n",
        "  print('x is greater than y.')\n",
        "\n",
        "\n",
        "else:\n",
        "  print('x is smaller than or equal to y.')"
      ],
      "metadata": {
        "id": "khsWyYCvspkL"
      },
      "execution_count": null,
      "outputs": []
    },
    {
      "cell_type": "code",
      "source": [
        "listdata = ['a', 'b', 'c']\n",
        "if 'a' in listdata:\n",
        "  print('a가 listdata 안에 있습니다.')\n",
        "  print(listdata)"
      ],
      "metadata": {
        "id": "SrYwm6DzjHCR",
        "outputId": "8e4ef6e8-3ada-469c-b1d1-29f4321b191f",
        "colab": {
          "base_uri": "https://localhost:8080/"
        }
      },
      "execution_count": 5,
      "outputs": [
        {
          "output_type": "stream",
          "name": "stdout",
          "text": [
            "a가 listdata 안에 있습니다.\n",
            "['a', 'b', 'c']\n"
          ]
        }
      ]
    },
    {
      "cell_type": "code",
      "source": [
        "listdata = ['a', 'b', 'c']\n",
        "if 'a' in listdata:\n",
        "  print ('a가 listdata 안에 있습니다.')\n",
        "  print(listdata)\n"
      ],
      "metadata": {
        "id": "iS8myQoGAY1U"
      },
      "execution_count": null,
      "outputs": []
    },
    {
      "cell_type": "markdown",
      "source": [
        "## 🔍 <font color='purple'> Relating issues of if statements are evailable in chapters 09 ~ 10 of 파이썬 200제 ."
      ],
      "metadata": {
        "id": "4kbHc0C8Cn40"
      }
    }
  ]
}