{
  "nbformat": 4,
  "nbformat_minor": 0,
  "metadata": {
    "colab": {
      "provenance": [],
      "authorship_tag": "ABX9TyOO1UFvC5Tb5ZCVeJeHC+XO",
      "include_colab_link": true
    },
    "kernelspec": {
      "name": "python3",
      "display_name": "Python 3"
    },
    "language_info": {
      "name": "python"
    }
  },
  "cells": [
    {
      "cell_type": "markdown",
      "metadata": {
        "id": "view-in-github",
        "colab_type": "text"
      },
      "source": [
        "<a href=\"https://colab.research.google.com/github/lje5149/NLP_2023/blob/main/Untitled5.ipynb\" target=\"_parent\"><img src=\"https://colab.research.google.com/assets/colab-badge.svg\" alt=\"Open In Colab\"/></a>"
      ]
    },
    {
      "cell_type": "code",
      "execution_count": 1,
      "metadata": {
        "id": "POsT9ici1iH9"
      },
      "outputs": [],
      "source": [
        "x=3"
      ]
    },
    {
      "cell_type": "code",
      "source": [
        "y=7"
      ],
      "metadata": {
        "id": "IzMbEkBu1rC2"
      },
      "execution_count": 2,
      "outputs": []
    },
    {
      "cell_type": "code",
      "source": [
        "print(x+y)"
      ],
      "metadata": {
        "colab": {
          "base_uri": "https://localhost:8080/"
        },
        "id": "mctfTvHU1unV",
        "outputId": "e2fb1235-dc66-4745-ef32-27bea859f478"
      },
      "execution_count": 3,
      "outputs": [
        {
          "output_type": "stream",
          "name": "stdout",
          "text": [
            "10\n"
          ]
        }
      ]
    },
    {
      "cell_type": "code",
      "source": [
        "#print(디지털인문학)"
      ],
      "metadata": {
        "id": "eRhOUzkK11Dv"
      },
      "execution_count": 4,
      "outputs": []
    },
    {
      "cell_type": "code",
      "source": [
        "print('디지털인문학')"
      ],
      "metadata": {
        "colab": {
          "base_uri": "https://localhost:8080/"
        },
        "id": "ga2-Nv7I2DAd",
        "outputId": "13825899-7ed4-4c49-86d4-50b519c7c674"
      },
      "execution_count": 6,
      "outputs": [
        {
          "output_type": "stream",
          "name": "stdout",
          "text": [
            "디지털인문학\n"
          ]
        }
      ]
    },
    {
      "cell_type": "code",
      "source": [
        "x=25"
      ],
      "metadata": {
        "id": "H7E-IBw52I5j"
      },
      "execution_count": 7,
      "outputs": []
    },
    {
      "cell_type": "code",
      "source": [
        "y='안녕!'"
      ],
      "metadata": {
        "id": "hUdE1KVl2Wa1"
      },
      "execution_count": 8,
      "outputs": []
    },
    {
      "cell_type": "code",
      "source": [
        "print(type(x))"
      ],
      "metadata": {
        "colab": {
          "base_uri": "https://localhost:8080/"
        },
        "id": "T4ThXgMz2fjM",
        "outputId": "bbfb604d-aa45-49cc-e28c-1d413f0149bb"
      },
      "execution_count": 10,
      "outputs": [
        {
          "output_type": "stream",
          "name": "stdout",
          "text": [
            "<class 'int'>\n"
          ]
        }
      ]
    },
    {
      "cell_type": "code",
      "source": [
        "print(type(y))"
      ],
      "metadata": {
        "colab": {
          "base_uri": "https://localhost:8080/"
        },
        "id": "5zJFODNU2p5k",
        "outputId": "a1310f52-0e69-402c-9a3e-2eeefa38010f"
      },
      "execution_count": 11,
      "outputs": [
        {
          "output_type": "stream",
          "name": "stdout",
          "text": [
            "<class 'str'>\n"
          ]
        }
      ]
    },
    {
      "cell_type": "code",
      "source": [],
      "metadata": {
        "id": "oT0zZaZi2vpI"
      },
      "execution_count": null,
      "outputs": []
    }
  ]
}