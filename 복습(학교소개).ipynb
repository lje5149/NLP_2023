{
  "nbformat": 4,
  "nbformat_minor": 0,
  "metadata": {
    "colab": {
      "provenance": [],
      "authorship_tag": "ABX9TyOe0Xw/4Eje7BJTYDLQTcli",
      "include_colab_link": true
    },
    "kernelspec": {
      "name": "python3",
      "display_name": "Python 3"
    },
    "language_info": {
      "name": "python"
    }
  },
  "cells": [
    {
      "cell_type": "markdown",
      "metadata": {
        "id": "view-in-github",
        "colab_type": "text"
      },
      "source": [
        "<a href=\"https://colab.research.google.com/github/lje5149/NLP_2023/blob/main/%EB%B3%B5%EC%8A%B5(%ED%95%99%EA%B5%90%EC%86%8C%EA%B0%9C).ipynb\" target=\"_parent\"><img src=\"https://colab.research.google.com/assets/colab-badge.svg\" alt=\"Open In Colab\"/></a>"
      ]
    },
    {
      "cell_type": "markdown",
      "source": [
        "#⭐**<font color = 'pink'>한남대학교</font> 소개하기**⭐\n",
        "* ## <font color = 'pink'> 한남대학교</font>에 대해 알고싶다면 [눌러보세용](http://www.hannam.ac.kr/2023-09-susi/)\n",
        "* ## <font color = 'skyblue'> 문헌정보학과</font>에 대해 알고싶다면 [이쪽으로!](https://www.hannam.ac.kr/kor/educate/educate_0101_04.html)\n"
      ],
      "metadata": {
        "id": "bVLp8TBpqUcT"
      }
    }
  ]
}